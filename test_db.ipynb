{
 "metadata": {
  "language_info": {
   "codemirror_mode": {
    "name": "ipython",
    "version": 3
   },
   "file_extension": ".py",
   "mimetype": "text/x-python",
   "name": "python",
   "nbconvert_exporter": "python",
   "pygments_lexer": "ipython3",
   "version": "3.6.9"
  },
  "orig_nbformat": 2,
  "kernelspec": {
   "name": "python369jvsc74a57bd0c15d3b161d9e31d3c14101c293414707f40e59d6cae0bbd6b708ca3d1e942f6f",
   "display_name": "Python 3.6.9 64-bit ('learn-env': conda)"
  }
 },
 "nbformat": 4,
 "nbformat_minor": 2,
 "cells": [
  {
   "cell_type": "code",
   "execution_count": null,
   "metadata": {},
   "outputs": [],
   "source": [
    "import sqlite3\n",
    "import pandas as pd"
   ]
  },
  {
   "cell_type": "code",
   "execution_count": null,
   "metadata": {},
   "outputs": [],
   "source": [
    "#Connecting to sqlite, creat db object\n",
    "# Opens db OR creates new db in same location py file is saved\n",
    "conn = sqlite3.connect('example.db')\n",
    "\n",
    "#Creating a cursor object connected to db \n",
    "c = conn.cursor()"
   ]
  },
  {
   "cell_type": "code",
   "execution_count": null,
   "metadata": {},
   "outputs": [],
   "source": [
    "# Droping sample table if already exists from previous practice\n",
    "c.execute(\"DROP TABLE IF EXISTS table_4\")"
   ]
  },
  {
   "cell_type": "code",
   "execution_count": null,
   "metadata": {},
   "outputs": [],
   "source": [
    "# Define table\n",
    "add_table = '''CREATE TABLE table_7(\n",
    "  country TEXT,\n",
    "  state TEXT,\n",
    "  revenue DECIMAL,\n",
    "  created_at TEXT);\n",
    "'''\n",
    "\n",
    "# Execute the command (on cursor object)\n",
    "c.execute(add_table) \n",
    "\n",
    "# Commits changes to db (on db object)\n",
    "conn.commit()"
   ]
  },
  {
   "cell_type": "code",
   "execution_count": null,
   "metadata": {},
   "outputs": [],
   "source": [
    "# YYYY-MM-DD\n",
    "\n",
    "# Populate table\n",
    "pop_table = '''INSERT INTO table_7(country, state, revenue, created_at) VALUES\n",
    "('USA', 'MI', 2, '20200823'),\n",
    "('USA', 'MI', 2, '20200923'),\n",
    "('USA', 'CO', 3, '20201202'),\n",
    "('CA', 'VC', 2, '20200329'),\n",
    "('CA', 'VC', 2, '20201208'),\n",
    "('CA', 'AL', 3, '20201214'),\n",
    "('USA', 'HI', 2, '20200106'),\n",
    "('USA', 'CO', 3, '20200619');'''\n",
    "\n",
    "c.execute(pop_table) \n",
    "\n",
    "# Commit changes to the data\n",
    "conn.commit()"
   ]
  },
  {
   "cell_type": "code",
   "execution_count": null,
   "metadata": {},
   "outputs": [],
   "source": [
    "\n",
    "query1 = '''SELECT country, \n",
    "state, (SE)\n",
    "SUM(revenue) AS total_revenue\n",
    "FROM table_7\n",
    "GROUP BY country, state\n",
    "ORDER BY country, state;\n",
    "'''\n",
    "\n",
    "c.execute(query1).fetchall()"
   ]
  },
  {
   "cell_type": "code",
   "execution_count": null,
   "metadata": {},
   "outputs": [],
   "source": [
    "# Extracting week in SQL server using WEEK(__), or EXTRACT(WEEK FROM __)\n",
    "# IN SQLite need to use strftime set to week #\n",
    "# strftime('%W', created_at) as week\n",
    "query2 = '''SELECT created_at\n",
    "FROM table_7\n",
    "'''\n",
    "\n",
    "c.execute(query2).fetchall()"
   ]
  },
  {
   "cell_type": "code",
   "execution_count": null,
   "metadata": {},
   "outputs": [],
   "source": [
    "# As df\n",
    "df = pd.DataFrame(c.execute(query2))\n",
    "df"
   ]
  },
  {
   "cell_type": "code",
   "execution_count": null,
   "metadata": {},
   "outputs": [],
   "source": [
    "type(df[0][1])"
   ]
  },
  {
   "cell_type": "code",
   "execution_count": null,
   "metadata": {},
   "outputs": [],
   "source": [
    "c.close()"
   ]
  },
  {
   "cell_type": "code",
   "execution_count": null,
   "metadata": {},
   "outputs": [],
   "source": [
    "#Closing the connection\n",
    "conn.close()"
   ]
  },
  {
   "cell_type": "code",
   "execution_count": null,
   "metadata": {},
   "outputs": [],
   "source": []
  }
 ]
}
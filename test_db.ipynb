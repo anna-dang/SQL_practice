{
 "metadata": {
  "language_info": {
   "codemirror_mode": {
    "name": "ipython",
    "version": 3
   },
   "file_extension": ".py",
   "mimetype": "text/x-python",
   "name": "python",
   "nbconvert_exporter": "python",
   "pygments_lexer": "ipython3",
   "version": "3.6.9"
  },
  "orig_nbformat": 2,
  "kernelspec": {
   "name": "python369jvsc74a57bd0c15d3b161d9e31d3c14101c293414707f40e59d6cae0bbd6b708ca3d1e942f6f",
   "display_name": "Python 3.6.9 64-bit ('learn-env': conda)"
  }
 },
 "nbformat": 4,
 "nbformat_minor": 2,
 "cells": [
  {
   "cell_type": "code",
   "execution_count": 1,
   "metadata": {},
   "outputs": [],
   "source": [
    "import sqlite3\n",
    "import pandas as pd"
   ]
  },
  {
   "cell_type": "code",
   "execution_count": 2,
   "metadata": {},
   "outputs": [],
   "source": [
    "#Connecting to sqlite, creat db object\n",
    "# Opens db OR creates new db in same location py file is saved\n",
    "conn = sqlite3.connect('example.db')\n",
    "\n",
    "#Creating a cursor object connected to db \n",
    "c = conn.cursor()"
   ]
  },
  {
   "cell_type": "code",
   "execution_count": 5,
   "metadata": {},
   "outputs": [
    {
     "output_type": "execute_result",
     "data": {
      "text/plain": [
       "<sqlite3.Cursor at 0x7fc5d1611490>"
      ]
     },
     "metadata": {},
     "execution_count": 5
    }
   ],
   "source": [
    "# Droping sample table if already exists from previous practice\n",
    "c.execute(\"DROP TABLE IF EXISTS table_4\")"
   ]
  },
  {
   "cell_type": "code",
   "execution_count": 31,
   "metadata": {},
   "outputs": [],
   "source": [
    "# Define table\n",
    "add_table = '''CREATE TABLE table_7(\n",
    "  country TEXT,\n",
    "  state TEXT,\n",
    "  revenue DECIMAL,\n",
    "  created_at TEXT);\n",
    "'''\n",
    "\n",
    "# Execute the command (on cursor object)\n",
    "c.execute(add_table) \n",
    "\n",
    "# Commits changes to db (on db object)\n",
    "conn.commit()"
   ]
  },
  {
   "cell_type": "code",
   "execution_count": 32,
   "metadata": {},
   "outputs": [],
   "source": [
    "# YYYY-MM-DD\n",
    "\n",
    "# Populate table\n",
    "pop_table = '''INSERT INTO table_7(country, state, revenue, created_at) VALUES\n",
    "('USA', 'MI', 2, '20200823'),\n",
    "('USA', 'MI', 2, '20200923'),\n",
    "('USA', 'CO', 3, '20201202'),\n",
    "('CA', 'VC', 2, '20200329'),\n",
    "('CA', 'VC', 2, '20201208'),\n",
    "('CA', 'AL', 3, '20201214'),\n",
    "('USA', 'HI', 2, '20200106'),\n",
    "('USA', 'CO', 3, '20200619');'''\n",
    "\n",
    "c.execute(pop_table) \n",
    "\n",
    "# Commit changes to the data\n",
    "conn.commit()"
   ]
  },
  {
   "cell_type": "code",
   "execution_count": 39,
   "metadata": {},
   "outputs": [
    {
     "output_type": "execute_result",
     "data": {
      "text/plain": [
       "[('CA', 'AL', 3),\n",
       " ('CA', 'VC', 4),\n",
       " ('USA', 'CO', 6),\n",
       " ('USA', 'HI', 2),\n",
       " ('USA', 'MI', 4)]"
      ]
     },
     "metadata": {},
     "execution_count": 39
    }
   ],
   "source": [
    "\n",
    "query1 = '''SELECT country, \n",
    "state, (SE)\n",
    "SUM(revenue) AS total_revenue\n",
    "FROM table_7\n",
    "GROUP BY country, state\n",
    "ORDER BY country, state;\n",
    "'''\n",
    "\n",
    "c.execute(query1).fetchall()"
   ]
  },
  {
   "cell_type": "code",
   "execution_count": 35,
   "metadata": {},
   "outputs": [
    {
     "output_type": "execute_result",
     "data": {
      "text/plain": [
       "[('20200823',),\n",
       " ('20200923',),\n",
       " ('20201202',),\n",
       " ('20200329',),\n",
       " ('20201208',),\n",
       " ('20201214',),\n",
       " ('20200106',),\n",
       " ('20200619',)]"
      ]
     },
     "metadata": {},
     "execution_count": 35
    }
   ],
   "source": [
    "# Extracting week in SQL server using WEEK(__), or EXTRACT(WEEK FROM __)\n",
    "# IN SQLite need to use strftime set to week #\n",
    "# strftime('%W', created_at) as week\n",
    "query2 = '''SELECT created_at\n",
    "FROM table_7\n",
    "'''\n",
    "\n",
    "c.execute(query2).fetchall()"
   ]
  },
  {
   "cell_type": "code",
   "execution_count": 30,
   "metadata": {},
   "outputs": [
    {
     "output_type": "execute_result",
     "data": {
      "text/plain": [
       "      0\n",
       "0  None\n",
       "1  None\n",
       "2  None\n",
       "3  None\n",
       "4  None\n",
       "5  None\n",
       "6  None\n",
       "7  None"
      ],
      "text/html": "<div>\n<style scoped>\n    .dataframe tbody tr th:only-of-type {\n        vertical-align: middle;\n    }\n\n    .dataframe tbody tr th {\n        vertical-align: top;\n    }\n\n    .dataframe thead th {\n        text-align: right;\n    }\n</style>\n<table border=\"1\" class=\"dataframe\">\n  <thead>\n    <tr style=\"text-align: right;\">\n      <th></th>\n      <th>0</th>\n    </tr>\n  </thead>\n  <tbody>\n    <tr>\n      <th>0</th>\n      <td>None</td>\n    </tr>\n    <tr>\n      <th>1</th>\n      <td>None</td>\n    </tr>\n    <tr>\n      <th>2</th>\n      <td>None</td>\n    </tr>\n    <tr>\n      <th>3</th>\n      <td>None</td>\n    </tr>\n    <tr>\n      <th>4</th>\n      <td>None</td>\n    </tr>\n    <tr>\n      <th>5</th>\n      <td>None</td>\n    </tr>\n    <tr>\n      <th>6</th>\n      <td>None</td>\n    </tr>\n    <tr>\n      <th>7</th>\n      <td>None</td>\n    </tr>\n  </tbody>\n</table>\n</div>"
     },
     "metadata": {},
     "execution_count": 30
    }
   ],
   "source": [
    "# As df\n",
    "df = pd.DataFrame(c.execute(query2))\n",
    "df"
   ]
  },
  {
   "cell_type": "code",
   "execution_count": 27,
   "metadata": {},
   "outputs": [
    {
     "output_type": "execute_result",
     "data": {
      "text/plain": [
       "int"
      ]
     },
     "metadata": {},
     "execution_count": 27
    }
   ],
   "source": [
    "type(df[0][1])"
   ]
  },
  {
   "cell_type": "code",
   "execution_count": 42,
   "metadata": {},
   "outputs": [],
   "source": [
    "c.close()"
   ]
  },
  {
   "cell_type": "code",
   "execution_count": 45,
   "metadata": {},
   "outputs": [],
   "source": [
    "#Closing the connection\n",
    "conn.close()"
   ]
  },
  {
   "cell_type": "code",
   "execution_count": null,
   "metadata": {},
   "outputs": [],
   "source": []
  }
 ]
}